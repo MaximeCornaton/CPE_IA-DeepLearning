{
  "cells": [
    {
      "cell_type": "markdown",
      "metadata": {
        "colab_type": "text",
        "id": "view-in-github"
      },
      "source": [
        "<a href=\"https://colab.research.google.com/github/MaximeCornaton/CPE_IA-DeepLearning/blob/master/DEPOs_TP1_TP2/TP2/TP2.ipynb\" target=\"_parent\"><img src=\"https://colab.research.google.com/assets/colab-badge.svg\" alt=\"Open In Colab\"/></a>"
      ]
    },
    {
      "cell_type": "code",
      "execution_count": null,
      "metadata": {
        "id": "HLOAGpA7PXsT"
      },
      "outputs": [],
      "source": [
        "!pip install numpy scikit-learn matplotlib"
      ]
    },
    {
      "cell_type": "markdown",
      "metadata": {},
      "source": [
        "# TP2"
      ]
    },
    {
      "cell_type": "markdown",
      "metadata": {},
      "source": [
        "## Exercice 2.1"
      ]
    },
    {
      "cell_type": "code",
      "execution_count": null,
      "metadata": {},
      "outputs": [],
      "source": [
        "import numpy as np\n",
        "\n",
        "class Perceptron:\n",
        "\n",
        "    def __init__(self, num_inputs, activation_function, learning_rate, num_epochs):\n",
        "        self.__num_inputs = num_inputs\n",
        "        # Créer un tableau de longueur num_inputs contenant les poids (entre 0 et 1) associés aux entrées\n",
        "        self.__weights = np.random.rand(num_inputs)\n",
        "        # Choix d'un biais random (entre 0 et 1)\n",
        "        self.__bias = np.random.rand()\n",
        "        self.__activation_function = activation_function\n",
        "        self.__learning_rate = learning_rate\n",
        "        self.__num_epochs = num_epochs\n",
        "\n",
        "    def train(self, X, y):\n",
        "        for epoch in range(self.__num_epochs):\n",
        "            for i in range(len(X)):\n",
        "                input_data = X[i]\n",
        "                prediction = self.predict(input_data)\n",
        "                error = y[i] - prediction\n",
        "                self.__weights += self.__learning_rate * error * input_data\n",
        "                self.__bias += self.__learning_rate * error\n",
        "        \n",
        "    def predict(self, X):\n",
        "        linear_combination = self.__bias\n",
        "        for i in range(len(X)):\n",
        "            linear_combination += X[i] * self.__weights[i]\n",
        "        return self.activate(linear_combination)\n",
        "\n",
        "    def activate(self, x):\n",
        "        if self.__activation_function == 'sigmoid':\n",
        "            return 1 / (1 + np.exp(-x))\n",
        "        elif self.__activation_function == 'tanh':\n",
        "            return np.tanh(x)\n",
        "        elif self.__activation_function == 'relu':\n",
        "            return np.maximum(0, x)\n",
        "        elif self.__activation_function == 'gaussian':\n",
        "            return np.exp(-x ** 2)\n",
        "        else:\n",
        "            # Renvoyer la fonction d'activation identité par défaut\n",
        "            return x\n",
        "\n",
        "\n",
        "\n",
        "\n",
        "if __name__ == \"__main__\":\n",
        "    # Exemple de test avec une fonction SIGMOID\n",
        "    # L'objectif est de démontrer la capacité du perceptron à apprendre la logique OR\n",
        "    X = np.array([[0, 0], [0, 1], [1, 0], [1, 1]])\n",
        "    y = np.array([0, 1, 1, 1])\n",
        "\n",
        "    perceptron = Perceptron(num_inputs=2, activation_function='sigmoid', learning_rate=0.5, num_epochs=1000)\n",
        "    perceptron.train(X, y)\n",
        "\n",
        "    # Test des prédictions\n",
        "    test_data = np.array([[0, 0], [0, 1], [1, 0], [1, 1]])\n",
        "    for data in test_data:\n",
        "        prediction = perceptron.predict(data)\n",
        "        print(f\"Prévision pour {data}: {prediction}\")"
      ]
    },
    {
      "cell_type": "markdown",
      "metadata": {},
      "source": [
        "## Exercice 2.2"
      ]
    },
    {
      "cell_type": "code",
      "execution_count": null,
      "metadata": {},
      "outputs": [],
      "source": []
    },
    {
      "cell_type": "markdown",
      "metadata": {},
      "source": [
        "## Exercice 2.3"
      ]
    },
    {
      "cell_type": "code",
      "execution_count": null,
      "metadata": {},
      "outputs": [],
      "source": []
    },
    {
      "cell_type": "markdown",
      "metadata": {},
      "source": [
        "## Exercice 2.4"
      ]
    },
    {
      "cell_type": "code",
      "execution_count": null,
      "metadata": {},
      "outputs": [],
      "source": []
    }
  ],
  "metadata": {
    "colab": {
      "authorship_tag": "ABX9TyO3pXSpjEr2HdLNR7ZjaGiB",
      "include_colab_link": true,
      "provenance": []
    },
    "kernelspec": {
      "display_name": "Python 3",
      "name": "python3"
    },
    "language_info": {
      "name": "python"
    }
  },
  "nbformat": 4,
  "nbformat_minor": 0
}
