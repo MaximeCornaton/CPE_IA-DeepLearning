{
  "cells": [
    {
      "cell_type": "markdown",
      "metadata": {
        "colab_type": "text",
        "id": "view-in-github"
      },
      "source": [
        "<a href=\"https://colab.research.google.com/github/MaximeCornaton/CPE_IA-DeepLearning/blob/master/DEPOs_TP1_TP2/TP2/TP2.ipynb\" target=\"_parent\"><img src=\"https://colab.research.google.com/assets/colab-badge.svg\" alt=\"Open In Colab\"/></a>"
      ]
    },
    {
      "cell_type": "code",
      "execution_count": null,
      "metadata": {
        "id": "HLOAGpA7PXsT"
      },
      "outputs": [],
      "source": [
        "!pip install numpy scikit-learn matplotlib"
      ]
    },
    {
      "cell_type": "markdown",
      "metadata": {},
      "source": [
        "# TP2"
      ]
    },
    {
      "cell_type": "markdown",
      "metadata": {},
      "source": [
        "## Exercice 2.1"
      ]
    },
    {
      "cell_type": "code",
      "execution_count": 2,
      "metadata": {},
      "outputs": [
        {
          "name": "stdout",
          "output_type": "stream",
          "text": [
            "Prévision pour [0 0]: 0.010114057576340141\n",
            "Prévision pour [0 1]: 0.9959831278740803\n",
            "Prévision pour [1 0]: 0.9959675063637465\n",
            "Prévision pour [1 1]: 0.9999998331582493\n"
          ]
        }
      ],
      "source": [
        "import numpy as np\n",
        "\n",
        "class Perceptron:\n",
        "\n",
        "    def __init__(self, num_inputs, activation_function, learning_rate, num_epochs):\n",
        "        self.__num_inputs = num_inputs\n",
        "        # Créer un tableau de longueur num_inputs contenant les poids (entre 0 et 1) associés aux entrées\n",
        "        self.__weights = np.random.rand(num_inputs)\n",
        "        # Choix d'un biais random (entre 0 et 1)\n",
        "        self.__bias = np.random.rand()\n",
        "        self.__activation_function = activation_function\n",
        "        self.__learning_rate = learning_rate\n",
        "        self.__num_epochs = num_epochs\n",
        "\n",
        "    def train(self, X, y):\n",
        "        for epoch in range(self.__num_epochs):\n",
        "            for i in range(len(X)):\n",
        "                input_data = X[i]\n",
        "                prediction = self.predict(input_data)\n",
        "                error = y[i] - prediction\n",
        "                self.__weights += self.__learning_rate * error * input_data\n",
        "                self.__bias += self.__learning_rate * error\n",
        "        \n",
        "    def predict(self, X):\n",
        "        linear_combination = self.__bias\n",
        "        for i in range(len(X)):\n",
        "            linear_combination += X[i] * self.__weights[i]\n",
        "        return self.activate(linear_combination)\n",
        "\n",
        "    def activate(self, x):\n",
        "        if self.__activation_function == 'sigmoid':\n",
        "            return 1 / (1 + np.exp(-x))\n",
        "        elif self.__activation_function == 'tanh':\n",
        "            return np.tanh(x)\n",
        "        elif self.__activation_function == 'relu':\n",
        "            return np.maximum(0, x)\n",
        "        elif self.__activation_function == 'gaussian':\n",
        "            return np.exp(-x ** 2)\n",
        "        else:\n",
        "            # Renvoyer la fonction d'activation identité par défaut\n",
        "            return x\n",
        "\n",
        "\n",
        "\n",
        "\n",
        "if __name__ == \"__main__\":\n",
        "    # Exemple de test avec une fonction SIGMOID\n",
        "    # L'objectif est de démontrer la capacité du perceptron à apprendre la logique OR\n",
        "    X = np.array([[0, 0], [0, 1], [1, 0], [1, 1]])\n",
        "    y = np.array([0, 1, 1, 1])\n",
        "\n",
        "    perceptron = Perceptron(num_inputs=2, activation_function='sigmoid', learning_rate=0.5, num_epochs=1000)\n",
        "    perceptron.train(X, y)\n",
        "\n",
        "    # Test des prédictions\n",
        "    test_data = np.array([[0, 0], [0, 1], [1, 0], [1, 1]])\n",
        "    for data in test_data:\n",
        "        prediction = perceptron.predict(data)\n",
        "        print(f\"Prévision pour {data}: {prediction}\")"
      ]
    },
    {
      "cell_type": "code",
      "execution_count": 3,
      "metadata": {},
      "outputs": [
        {
          "name": "stdout",
          "output_type": "stream",
          "text": [
            "Prédictions finales:\n",
            "Données d'entrée: [0 0], Prédiction: [0.11073436]\n",
            "Données d'entrée: [0 1], Prédiction: [0.90991055]\n",
            "Données d'entrée: [1 0], Prédiction: [0.91726987]\n",
            "Données d'entrée: [1 1], Prédiction: [0.07019086]\n"
          ]
        }
      ],
      "source": [
        "import numpy as np\n",
        "\n",
        "class MultiLayerPerceptron:\n",
        "    def __init__(self, num_inputs, num_hidden, num_outputs, activation='sigmoid', epochs=1000, learning_rate=0.1):\n",
        "        self.num_inputs = num_inputs\n",
        "        self.num_hidden = num_hidden\n",
        "        self.num_outputs = num_outputs\n",
        "        self.epochs = epochs\n",
        "        self.learning_rate = learning_rate\n",
        "        self.activation = activation\n",
        "        \n",
        "        # Initialisation des poids pour les couches cachées et de sortie\n",
        "        self.hidden_weights = np.random.rand(self.num_inputs, self.num_hidden)\n",
        "        self.output_weights = np.random.rand(self.num_hidden, self.num_outputs)\n",
        "\n",
        "        # Choix de la fonction d'activation\n",
        "        if activation == 'sigmoid':\n",
        "            self.activation_function = self._sigmoid\n",
        "            self.activation_derivative = self._sigmoid_derivative\n",
        "        elif activation == 'tanh':\n",
        "            self.activation_function = np.tanh\n",
        "            self.activation_derivative = lambda x: 1 - np.tanh(x)**2\n",
        "        elif activation == 'relu':\n",
        "            self.activation_function = self._relu\n",
        "            self.activation_derivative = self._relu_derivative\n",
        "        else:\n",
        "            raise ValueError(\"Fonction d'activation non prise en charge\")\n",
        "\n",
        "    def _sigmoid(self, x):\n",
        "        return 1 / (1 + np.exp(-x))\n",
        "\n",
        "    def _sigmoid_derivative(self, x):\n",
        "        return x * (1 - x)\n",
        "\n",
        "    def _relu(self, x):\n",
        "        return np.maximum(0, x)\n",
        "\n",
        "    def _relu_derivative(self, x):\n",
        "        return np.where(x <= 0, 0, 1)\n",
        "\n",
        "    def train(self, X, y):\n",
        "        for epoch in range(self.epochs):\n",
        "            # Forward propagation\n",
        "            hidden_layer_input = np.dot(X, self.hidden_weights)\n",
        "            hidden_layer_output = self.activation_function(hidden_layer_input)\n",
        "\n",
        "            output_layer_input = np.dot(hidden_layer_output, self.output_weights)\n",
        "            output_layer_output = self.activation_function(output_layer_input)\n",
        "\n",
        "            # Calcul de l'erreur\n",
        "            output_error = y - output_layer_output\n",
        "            \n",
        "            # Calcul du gradient pour la couche de sortie\n",
        "            output_delta = output_error * self.activation_derivative(output_layer_output)\n",
        "\n",
        "            # Calcul de l'erreur pour la couche cachée\n",
        "            hidden_error = output_delta.dot(self.output_weights.T)\n",
        "            \n",
        "            # Calcul du gradient pour la couche cachée\n",
        "            hidden_delta = hidden_error * self.activation_derivative(hidden_layer_output)\n",
        "\n",
        "            # Mise à jour des poids\n",
        "            self.output_weights += hidden_layer_output.T.dot(output_delta) * self.learning_rate\n",
        "            self.hidden_weights += X.T.dot(hidden_delta) * self.learning_rate\n",
        "\n",
        "    def predict(self, X):\n",
        "        hidden_layer_input = np.dot(X, self.hidden_weights)\n",
        "        hidden_layer_output = self.activation_function(hidden_layer_input)\n",
        "\n",
        "        output_layer_input = np.dot(hidden_layer_output, self.output_weights)\n",
        "        output_layer_output = self.activation_function(output_layer_input)\n",
        "\n",
        "        return output_layer_output\n",
        "\n",
        "# Exemple d'utilisation avec une fonction XOR\n",
        "if __name__ == \"__main__\":\n",
        "    # Données d'entrée et de sortie pour la fonction XOR\n",
        "    X = np.array([[0, 0], [0, 1], [1, 0], [1, 1]])\n",
        "    y = np.array([[0], [1], [1], [0]])\n",
        "\n",
        "    # Création et entraînement du modèle\n",
        "    model = MultiLayerPerceptron(num_inputs=2, num_hidden=4, num_outputs=1, activation='sigmoid', epochs=10000, learning_rate=0.1)\n",
        "    model.train(X, y)\n",
        "\n",
        "    # Prédictions\n",
        "    predictions = model.predict(X)\n",
        "    print(\"Prédictions finales:\")\n",
        "    for i in range(len(predictions)):\n",
        "        print(f\"Données d'entrée: {X[i]}, Prédiction: {predictions[i]}\")\n"
      ]
    },
    {
      "cell_type": "markdown",
      "metadata": {},
      "source": [
        "## Exercice 2.2"
      ]
    },
    {
      "cell_type": "code",
      "execution_count": null,
      "metadata": {},
      "outputs": [],
      "source": []
    },
    {
      "cell_type": "markdown",
      "metadata": {},
      "source": [
        "## Exercice 2.3"
      ]
    },
    {
      "cell_type": "code",
      "execution_count": null,
      "metadata": {},
      "outputs": [],
      "source": []
    },
    {
      "cell_type": "markdown",
      "metadata": {},
      "source": [
        "## Exercice 2.4"
      ]
    },
    {
      "cell_type": "code",
      "execution_count": null,
      "metadata": {},
      "outputs": [],
      "source": []
    }
  ],
  "metadata": {
    "colab": {
      "authorship_tag": "ABX9TyO3pXSpjEr2HdLNR7ZjaGiB",
      "include_colab_link": true,
      "provenance": []
    },
    "kernelspec": {
      "display_name": "Python 3",
      "name": "python3"
    },
    "language_info": {
      "codemirror_mode": {
        "name": "ipython",
        "version": 3
      },
      "file_extension": ".py",
      "mimetype": "text/x-python",
      "name": "python",
      "nbconvert_exporter": "python",
      "pygments_lexer": "ipython3",
      "version": "3.11.6"
    }
  },
  "nbformat": 4,
  "nbformat_minor": 0
}
