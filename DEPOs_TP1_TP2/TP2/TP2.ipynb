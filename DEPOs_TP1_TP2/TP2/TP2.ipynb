{
  "cells": [
    {
      "cell_type": "markdown",
      "metadata": {
        "colab_type": "text",
        "id": "view-in-github"
      },
      "source": [
        "<a href=\"https://colab.research.google.com/github/MaximeCornaton/CPE_IA-DeepLearning/blob/master/DEPOs_TP1_TP2/TP2/TP2.ipynb\" target=\"_parent\"><img src=\"https://colab.research.google.com/assets/colab-badge.svg\" alt=\"Open In Colab\"/></a>"
      ]
    },
    {
      "cell_type": "code",
      "execution_count": null,
      "metadata": {
        "id": "HLOAGpA7PXsT"
      },
      "outputs": [],
      "source": [
        "!pip install numpy scikit-learn matplotlib\n",
        "!pip install tensorflow\n"
      ]
    },
    {
      "cell_type": "markdown",
      "metadata": {},
      "source": [
        "# TP2"
      ]
    },
    {
      "cell_type": "markdown",
      "metadata": {},
      "source": [
        "## Exercice 2.1"
      ]
    },
    {
      "cell_type": "markdown",
      "metadata": {},
      "source": [
        "### Couche simple"
      ]
    },
    {
      "cell_type": "code",
      "execution_count": 2,
      "metadata": {},
      "outputs": [
        {
          "name": "stdout",
          "output_type": "stream",
          "text": [
            "Prévision pour [0 0]: 0.010114057576340141\n",
            "Prévision pour [0 1]: 0.9959831278740803\n",
            "Prévision pour [1 0]: 0.9959675063637465\n",
            "Prévision pour [1 1]: 0.9999998331582493\n"
          ]
        }
      ],
      "source": [
        "import numpy as np\n",
        "\n",
        "class Perceptron:\n",
        "\n",
        "    def __init__(self, num_inputs, activation_function, learning_rate, num_epochs):\n",
        "        self.__num_inputs = num_inputs\n",
        "        # Créer un tableau de longueur num_inputs contenant les poids (entre 0 et 1) associés aux entrées\n",
        "        self.__weights = np.random.rand(num_inputs)\n",
        "        # Choix d'un biais random (entre 0 et 1)\n",
        "        self.__bias = np.random.rand()\n",
        "        self.__activation_function = activation_function\n",
        "        self.__learning_rate = learning_rate\n",
        "        self.__num_epochs = num_epochs\n",
        "\n",
        "    def train(self, X, y):\n",
        "        for epoch in range(self.__num_epochs):\n",
        "            for i in range(len(X)):\n",
        "                input_data = X[i]\n",
        "                prediction = self.predict(input_data)\n",
        "                error = y[i] - prediction\n",
        "                self.__weights += self.__learning_rate * error * input_data\n",
        "                self.__bias += self.__learning_rate * error\n",
        "        \n",
        "    def predict(self, X):\n",
        "        linear_combination = self.__bias\n",
        "        for i in range(len(X)):\n",
        "            linear_combination += X[i] * self.__weights[i]\n",
        "        return self.activate(linear_combination)\n",
        "\n",
        "    def activate(self, x):\n",
        "        if self.__activation_function == 'sigmoid':\n",
        "            return 1 / (1 + np.exp(-x))\n",
        "        elif self.__activation_function == 'tanh':\n",
        "            return np.tanh(x)\n",
        "        elif self.__activation_function == 'relu':\n",
        "            return np.maximum(0, x)\n",
        "        elif self.__activation_function == 'gaussian':\n",
        "            return np.exp(-x ** 2)\n",
        "        else:\n",
        "            # Renvoyer la fonction d'activation identité par défaut\n",
        "            return x\n",
        "\n",
        "\n",
        "\n",
        "\n",
        "if __name__ == \"__main__\":\n",
        "    # Exemple de test avec une fonction SIGMOID\n",
        "    # L'objectif est de démontrer la capacité du perceptron à apprendre la logique OR\n",
        "    X = np.array([[0, 0], [0, 1], [1, 0], [1, 1]])\n",
        "    y = np.array([0, 1, 1, 1])\n",
        "\n",
        "    perceptron = Perceptron(num_inputs=2, activation_function='sigmoid', learning_rate=0.5, num_epochs=1000)\n",
        "    perceptron.train(X, y)\n",
        "\n",
        "    # Test des prédictions\n",
        "    test_data = np.array([[0, 0], [0, 1], [1, 0], [1, 1]])\n",
        "    for data in test_data:\n",
        "        prediction = perceptron.predict(data)\n",
        "        print(f\"Prévision pour {data}: {prediction}\")"
      ]
    },
    {
      "cell_type": "markdown",
      "metadata": {},
      "source": [
        "### Plusieurs couches"
      ]
    },
    {
      "cell_type": "code",
      "execution_count": 3,
      "metadata": {},
      "outputs": [
        {
          "name": "stdout",
          "output_type": "stream",
          "text": [
            "Prédictions finales:\n",
            "Données d'entrée: [0 0], Prédiction: [0.11073436]\n",
            "Données d'entrée: [0 1], Prédiction: [0.90991055]\n",
            "Données d'entrée: [1 0], Prédiction: [0.91726987]\n",
            "Données d'entrée: [1 1], Prédiction: [0.07019086]\n"
          ]
        }
      ],
      "source": [
        "import numpy as np\n",
        "\n",
        "class MultiLayerPerceptron:\n",
        "    def __init__(self, num_inputs, num_hidden, num_outputs, activation='sigmoid', epochs=1000, learning_rate=0.1):\n",
        "        self.num_inputs = num_inputs\n",
        "        self.num_hidden = num_hidden\n",
        "        self.num_outputs = num_outputs\n",
        "        self.epochs = epochs\n",
        "        self.learning_rate = learning_rate\n",
        "        self.activation = activation\n",
        "        \n",
        "        # Initialisation des poids pour les couches cachées et de sortie\n",
        "        self.hidden_weights = np.random.rand(self.num_inputs, self.num_hidden)\n",
        "        self.output_weights = np.random.rand(self.num_hidden, self.num_outputs)\n",
        "\n",
        "        # Choix de la fonction d'activation\n",
        "        if activation == 'sigmoid':\n",
        "            self.activation_function = self._sigmoid\n",
        "            self.activation_derivative = self._sigmoid_derivative\n",
        "        elif activation == 'tanh':\n",
        "            self.activation_function = np.tanh\n",
        "            self.activation_derivative = lambda x: 1 - np.tanh(x)**2\n",
        "        elif activation == 'relu':\n",
        "            self.activation_function = self._relu\n",
        "            self.activation_derivative = self._relu_derivative\n",
        "        else:\n",
        "            raise ValueError(\"Fonction d'activation non prise en charge\")\n",
        "\n",
        "    def _sigmoid(self, x):\n",
        "        return 1 / (1 + np.exp(-x))\n",
        "\n",
        "    def _sigmoid_derivative(self, x):\n",
        "        return x * (1 - x)\n",
        "\n",
        "    def _relu(self, x):\n",
        "        return np.maximum(0, x)\n",
        "\n",
        "    def _relu_derivative(self, x):\n",
        "        return np.where(x <= 0, 0, 1)\n",
        "\n",
        "    def train(self, X, y):\n",
        "        for epoch in range(self.epochs):\n",
        "            # Forward propagation\n",
        "            hidden_layer_input = np.dot(X, self.hidden_weights)\n",
        "            hidden_layer_output = self.activation_function(hidden_layer_input)\n",
        "\n",
        "            output_layer_input = np.dot(hidden_layer_output, self.output_weights)\n",
        "            output_layer_output = self.activation_function(output_layer_input)\n",
        "\n",
        "            # Calcul de l'erreur\n",
        "            output_error = y - output_layer_output\n",
        "            \n",
        "            # Calcul du gradient pour la couche de sortie\n",
        "            output_delta = output_error * self.activation_derivative(output_layer_output)\n",
        "\n",
        "            # Calcul de l'erreur pour la couche cachée\n",
        "            hidden_error = output_delta.dot(self.output_weights.T)\n",
        "            \n",
        "            # Calcul du gradient pour la couche cachée\n",
        "            hidden_delta = hidden_error * self.activation_derivative(hidden_layer_output)\n",
        "\n",
        "            # Mise à jour des poids\n",
        "            self.output_weights += hidden_layer_output.T.dot(output_delta) * self.learning_rate\n",
        "            self.hidden_weights += X.T.dot(hidden_delta) * self.learning_rate\n",
        "\n",
        "    def predict(self, X):\n",
        "        hidden_layer_input = np.dot(X, self.hidden_weights)\n",
        "        hidden_layer_output = self.activation_function(hidden_layer_input)\n",
        "\n",
        "        output_layer_input = np.dot(hidden_layer_output, self.output_weights)\n",
        "        output_layer_output = self.activation_function(output_layer_input)\n",
        "\n",
        "        return output_layer_output\n",
        "\n",
        "# Exemple d'utilisation avec une fonction XOR\n",
        "if __name__ == \"__main__\":\n",
        "    # Données d'entrée et de sortie pour la fonction XOR\n",
        "    X = np.array([[0, 0], [0, 1], [1, 0], [1, 1]])\n",
        "    y = np.array([[0], [1], [1], [0]])\n",
        "\n",
        "    # Création et entraînement du modèle\n",
        "    model = MultiLayerPerceptron(num_inputs=2, num_hidden=4, num_outputs=1, activation='sigmoid', epochs=10000, learning_rate=0.1)\n",
        "    model.train(X, y)\n",
        "\n",
        "    # Prédictions\n",
        "    predictions = model.predict(X)\n",
        "    print(\"Prédictions finales:\")\n",
        "    for i in range(len(predictions)):\n",
        "        print(f\"Données d'entrée: {X[i]}, Prédiction: {predictions[i]}\")\n"
      ]
    },
    {
      "cell_type": "markdown",
      "metadata": {},
      "source": [
        "## Exercice 2.2"
      ]
    },
    {
      "cell_type": "code",
      "execution_count": 5,
      "metadata": {},
      "outputs": [
        {
          "name": "stderr",
          "output_type": "stream",
          "text": [
            "WARNING:absl:At this time, the v2.11+ optimizer `tf.keras.optimizers.Adam` runs slowly on M1/M2 Macs, please use the legacy Keras optimizer instead, located at `tf.keras.optimizers.legacy.Adam`.\n"
          ]
        },
        {
          "name": "stdout",
          "output_type": "stream",
          "text": [
            "Epoch 1/10\n",
            "1875/1875 [==============================] - 2s 986us/step - loss: 0.2554 - accuracy: 0.9271 - val_loss: 0.1404 - val_accuracy: 0.9578\n",
            "Epoch 2/10\n",
            "1875/1875 [==============================] - 2s 975us/step - loss: 0.1105 - accuracy: 0.9666 - val_loss: 0.0941 - val_accuracy: 0.9707\n",
            "Epoch 3/10\n",
            "1875/1875 [==============================] - 2s 973us/step - loss: 0.0767 - accuracy: 0.9764 - val_loss: 0.0850 - val_accuracy: 0.9738\n",
            "Epoch 4/10\n",
            "1875/1875 [==============================] - 2s 1ms/step - loss: 0.0552 - accuracy: 0.9832 - val_loss: 0.0760 - val_accuracy: 0.9762\n",
            "Epoch 5/10\n",
            "1875/1875 [==============================] - 2s 1ms/step - loss: 0.0430 - accuracy: 0.9867 - val_loss: 0.0772 - val_accuracy: 0.9753\n",
            "Epoch 6/10\n",
            "1875/1875 [==============================] - 2s 988us/step - loss: 0.0343 - accuracy: 0.9895 - val_loss: 0.0771 - val_accuracy: 0.9764\n",
            "Epoch 7/10\n",
            "1875/1875 [==============================] - 2s 989us/step - loss: 0.0275 - accuracy: 0.9914 - val_loss: 0.0740 - val_accuracy: 0.9778\n",
            "Epoch 8/10\n",
            "1875/1875 [==============================] - 2s 990us/step - loss: 0.0223 - accuracy: 0.9930 - val_loss: 0.0738 - val_accuracy: 0.9783\n",
            "Epoch 9/10\n",
            "1875/1875 [==============================] - 2s 991us/step - loss: 0.0182 - accuracy: 0.9941 - val_loss: 0.0884 - val_accuracy: 0.9745\n",
            "Epoch 10/10\n",
            "1875/1875 [==============================] - 2s 994us/step - loss: 0.0146 - accuracy: 0.9956 - val_loss: 0.0752 - val_accuracy: 0.9796\n"
          ]
        },
        {
          "name": "stderr",
          "output_type": "stream",
          "text": [
            "WARNING:absl:At this time, the v2.11+ optimizer `tf.keras.optimizers.Adam` runs slowly on M1/M2 Macs, please use the legacy Keras optimizer instead, located at `tf.keras.optimizers.legacy.Adam`.\n"
          ]
        },
        {
          "name": "stdout",
          "output_type": "stream",
          "text": [
            "Epoch 1/10\n",
            "782/782 [==============================] - 8s 10ms/step - loss: 0.3827 - accuracy: 0.8166 - val_loss: 0.3073 - val_accuracy: 0.8684\n",
            "Epoch 2/10\n",
            "782/782 [==============================] - 8s 11ms/step - loss: 0.0645 - accuracy: 0.9788 - val_loss: 0.5434 - val_accuracy: 0.8335\n",
            "Epoch 3/10\n",
            "782/782 [==============================] - 9s 11ms/step - loss: 0.0103 - accuracy: 0.9968 - val_loss: 0.6652 - val_accuracy: 0.8483\n",
            "Epoch 4/10\n",
            "782/782 [==============================] - 9s 11ms/step - loss: 0.0075 - accuracy: 0.9974 - val_loss: 0.8304 - val_accuracy: 0.8418\n",
            "Epoch 5/10\n",
            "782/782 [==============================] - 9s 11ms/step - loss: 0.0256 - accuracy: 0.9907 - val_loss: 0.7520 - val_accuracy: 0.8414\n",
            "Epoch 6/10\n",
            "782/782 [==============================] - 9s 11ms/step - loss: 0.0104 - accuracy: 0.9963 - val_loss: 0.9118 - val_accuracy: 0.8324\n",
            "Epoch 7/10\n",
            "782/782 [==============================] - 9s 11ms/step - loss: 0.0022 - accuracy: 0.9994 - val_loss: 1.0973 - val_accuracy: 0.8402\n",
            "Epoch 8/10\n",
            "782/782 [==============================] - 8s 11ms/step - loss: 0.0074 - accuracy: 0.9978 - val_loss: 1.0042 - val_accuracy: 0.8321\n",
            "Epoch 9/10\n",
            "782/782 [==============================] - 9s 11ms/step - loss: 0.0157 - accuracy: 0.9946 - val_loss: 0.9781 - val_accuracy: 0.8344\n",
            "Epoch 10/10\n",
            "782/782 [==============================] - 8s 11ms/step - loss: 0.0024 - accuracy: 0.9994 - val_loss: 1.1697 - val_accuracy: 0.8390\n"
          ]
        },
        {
          "data": {
            "text/plain": [
              "<keras.src.callbacks.History at 0x2f2df8990>"
            ]
          },
          "execution_count": 5,
          "metadata": {},
          "output_type": "execute_result"
        }
      ],
      "source": [
        "import tensorflow as tf\n",
        "from tensorflow.keras.datasets import mnist, imdb\n",
        "from tensorflow.keras.models import Sequential\n",
        "from tensorflow.keras.layers import Dense, Embedding, Flatten\n",
        "from tensorflow.keras.preprocessing import sequence\n",
        "\n",
        "# Charger les données MNIST\n",
        "(x_train_mnist, y_train_mnist), (x_test_mnist, y_test_mnist) = mnist.load_data()\n",
        "# Normaliser les données\n",
        "x_train_mnist, x_test_mnist = x_train_mnist / 255.0, x_test_mnist / 255.0\n",
        "\n",
        "# Charger les données IMDB\n",
        "max_features = 10000  # Nombre maximum de mots à conserver comme fonction de fréquence\n",
        "maxlen = 200  # Longueur maximale des avis\n",
        "(x_train_imdb, y_train_imdb), (x_test_imdb, y_test_imdb) = imdb.load_data(num_words=max_features)\n",
        "x_train_imdb = sequence.pad_sequences(x_train_imdb, maxlen=maxlen)\n",
        "x_test_imdb = sequence.pad_sequences(x_test_imdb, maxlen=maxlen)\n",
        "\n",
        "# Modifier les hyperparamètres\n",
        "# Exemple : nombre de neurones dans la couche cachée, taux d'apprentissage, nombre d'époques, etc.\n",
        "num_neurons = 128\n",
        "learning_rate = 0.001\n",
        "epochs = 10\n",
        "\n",
        "# Modèle pour MNIST\n",
        "model_mnist = Sequential([\n",
        "    Flatten(input_shape=(28, 28)),\n",
        "    Dense(num_neurons, activation='relu'),\n",
        "    Dense(10, activation='softmax')\n",
        "])\n",
        "\n",
        "model_mnist.compile(optimizer=tf.keras.optimizers.Adam(learning_rate=learning_rate),\n",
        "                    loss='sparse_categorical_crossentropy',\n",
        "                    metrics=['accuracy'])\n",
        "\n",
        "model_mnist.fit(x_train_mnist, y_train_mnist, epochs=epochs, validation_data=(x_test_mnist, y_test_mnist))\n",
        "\n",
        "# Modèle pour IMDB\n",
        "model_imdb = Sequential([\n",
        "    Embedding(max_features, 128, input_length=maxlen),\n",
        "    Flatten(),\n",
        "    Dense(num_neurons, activation='relu'),\n",
        "    Dense(1, activation='sigmoid')\n",
        "])\n",
        "\n",
        "model_imdb.compile(optimizer=tf.keras.optimizers.Adam(learning_rate=learning_rate),\n",
        "                   loss='binary_crossentropy',\n",
        "                   metrics=['accuracy'])\n",
        "\n",
        "model_imdb.fit(x_train_imdb, y_train_imdb, epochs=epochs, validation_data=(x_test_imdb, y_test_imdb))\n"
      ]
    },
    {
      "cell_type": "code",
      "execution_count": 7,
      "metadata": {},
      "outputs": [
        {
          "name": "stdout",
          "output_type": "stream",
          "text": [
            "313/313 [==============================] - 0s 423us/step - loss: 0.0752 - accuracy: 0.9796\n",
            "MNIST Accuracy: 0.9796000123023987\n",
            "313/313 [==============================] - 0s 401us/step\n",
            "782/782 [==============================] - 1s 1ms/step - loss: 1.1697 - accuracy: 0.8390\n",
            "IMDB Accuracy: 0.8389599919319153\n",
            "782/782 [==============================] - 1s 1ms/step\n",
            "\n",
            "Classification Report for MNIST:\n",
            "              precision    recall  f1-score   support\n",
            "\n",
            "           0       0.99      0.99      0.99       980\n",
            "           1       0.99      0.99      0.99      1135\n",
            "           2       0.96      0.99      0.98      1032\n",
            "           3       0.98      0.97      0.98      1010\n",
            "           4       0.97      0.98      0.98       982\n",
            "           5       0.98      0.98      0.98       892\n",
            "           6       0.99      0.98      0.98       958\n",
            "           7       0.98      0.98      0.98      1028\n",
            "           8       0.97      0.98      0.97       974\n",
            "           9       0.98      0.97      0.97      1009\n",
            "\n",
            "    accuracy                           0.98     10000\n",
            "   macro avg       0.98      0.98      0.98     10000\n",
            "weighted avg       0.98      0.98      0.98     10000\n",
            "\n",
            "\n",
            "Confusion Matrix for MNIST:\n",
            "[[ 971    0    1    0    1    1    3    1    1    1]\n",
            " [   2 1119    4    1    0    0    2    1    6    0]\n",
            " [   1    1 1020    0    2    0    1    4    2    1]\n",
            " [   0    0    6  984    0    7    0    4    3    6]\n",
            " [   3    0    5    1  960    1    1    3    1    7]\n",
            " [   2    0    0    7    1  871    4    1    5    1]\n",
            " [   2    3    4    1    4    4  937    0    3    0]\n",
            " [   0    2   11    3    1    0    0 1006    2    3]\n",
            " [   2    0    7    3    6    1    0    2  950    3]\n",
            " [   1    3    1    2   11    2    1    4    6  978]]\n",
            "\n",
            "Classification Report for IMDB:\n",
            "              precision    recall  f1-score   support\n",
            "\n",
            "           0       0.85      0.82      0.84     12500\n",
            "           1       0.83      0.86      0.84     12500\n",
            "\n",
            "    accuracy                           0.84     25000\n",
            "   macro avg       0.84      0.84      0.84     25000\n",
            "weighted avg       0.84      0.84      0.84     25000\n",
            "\n",
            "\n",
            "Confusion Matrix for IMDB:\n",
            "[[10249  2251]\n",
            " [ 1775 10725]]\n"
          ]
        }
      ],
      "source": [
        "# Évaluation du modèle MNIST\n",
        "mnist_loss, mnist_accuracy = model_mnist.evaluate(x_test_mnist, y_test_mnist)\n",
        "print(\"MNIST Accuracy:\", mnist_accuracy)\n",
        "\n",
        "# Prédictions pour MNIST\n",
        "mnist_predictions = np.argmax(model_mnist.predict(x_test_mnist), axis=-1)   \n",
        "\n",
        "# Évaluation du modèle IMDB\n",
        "imdb_loss, imdb_accuracy = model_imdb.evaluate(x_test_imdb, y_test_imdb)\n",
        "print(\"IMDB Accuracy:\", imdb_accuracy)\n",
        "\n",
        "# Prédictions pour IMDB\n",
        "imdb_predictions = (model_imdb.predict(x_test_imdb) > 0.5).astype(\"int32\")\n",
        "\n",
        "# Calcul des métriques pour les deux modèles\n",
        "from sklearn.metrics import classification_report, confusion_matrix\n",
        "\n",
        "print(\"\\nClassification Report for MNIST:\")\n",
        "print(classification_report(y_test_mnist, mnist_predictions))\n",
        "\n",
        "print(\"\\nConfusion Matrix for MNIST:\")\n",
        "print(confusion_matrix(y_test_mnist, mnist_predictions))\n",
        "\n",
        "print(\"\\nClassification Report for IMDB:\")\n",
        "print(classification_report(y_test_imdb, imdb_predictions))\n",
        "\n",
        "print(\"\\nConfusion Matrix for IMDB:\")\n",
        "print(confusion_matrix(y_test_imdb, imdb_predictions))\n"
      ]
    },
    {
      "cell_type": "markdown",
      "metadata": {},
      "source": []
    },
    {
      "cell_type": "markdown",
      "metadata": {},
      "source": [
        "## Exercice 2.3"
      ]
    },
    {
      "cell_type": "code",
      "execution_count": null,
      "metadata": {},
      "outputs": [],
      "source": []
    },
    {
      "cell_type": "markdown",
      "metadata": {},
      "source": [
        "## Exercice 2.4"
      ]
    },
    {
      "cell_type": "code",
      "execution_count": null,
      "metadata": {},
      "outputs": [],
      "source": []
    }
  ],
  "metadata": {
    "colab": {
      "authorship_tag": "ABX9TyO3pXSpjEr2HdLNR7ZjaGiB",
      "include_colab_link": true,
      "provenance": []
    },
    "kernelspec": {
      "display_name": "Python 3",
      "name": "python3"
    },
    "language_info": {
      "codemirror_mode": {
        "name": "ipython",
        "version": 3
      },
      "file_extension": ".py",
      "mimetype": "text/x-python",
      "name": "python",
      "nbconvert_exporter": "python",
      "pygments_lexer": "ipython3",
      "version": "3.11.6"
    }
  },
  "nbformat": 4,
  "nbformat_minor": 0
}
